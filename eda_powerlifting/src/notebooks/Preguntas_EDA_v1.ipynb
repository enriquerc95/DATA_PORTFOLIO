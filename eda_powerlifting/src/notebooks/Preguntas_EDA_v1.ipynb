{
 "cells": [
  {
   "cell_type": "markdown",
   "metadata": {},
   "source": [
    "# EDA"
   ]
  },
  {
   "cell_type": "markdown",
   "metadata": {},
   "source": [
    "### Base de datos de powerlifting"
   ]
  },
  {
   "cell_type": "code",
   "execution_count": 1,
   "metadata": {},
   "outputs": [],
   "source": [
    "\n",
    "import numpy as np\n",
    "import pandas as pd"
   ]
  },
  {
   "cell_type": "code",
   "execution_count": 2,
   "metadata": {},
   "outputs": [
    {
     "name": "stderr",
     "output_type": "stream",
     "text": [
      "C:\\Users\\enrik\\AppData\\Local\\Temp\\ipykernel_25840\\1296779953.py:1: DtypeWarning: Columns (33,35,38) have mixed types. Specify dtype option on import or set low_memory=False.\n",
      "  df_power = pd.read_csv(\"../data/raw/openpowerlifting-2023-12-16-fb2308df.csv\")\n"
     ]
    }
   ],
   "source": [
    "\n",
    "\n"
   ]
  },
  {
   "cell_type": "code",
   "execution_count": null,
   "metadata": {},
   "outputs": [],
   "source": []
  },
  {
   "cell_type": "code",
   "execution_count": 4,
   "metadata": {},
   "outputs": [
    {
     "ename": "NameError",
     "evalue": "name 'df_power_muestra' is not defined",
     "output_type": "error",
     "traceback": [
      "\u001b[1;31m---------------------------------------------------------------------------\u001b[0m",
      "\u001b[1;31mNameError\u001b[0m                                 Traceback (most recent call last)",
      "Cell \u001b[1;32mIn[4], line 1\u001b[0m\n\u001b[1;32m----> 1\u001b[0m \u001b[43mdf_power_muestra\u001b[49m\u001b[38;5;241m.\u001b[39mDate \u001b[38;5;66;03m#cambiar la columna a datetime\u001b[39;00m\n",
      "\u001b[1;31mNameError\u001b[0m: name 'df_power_muestra' is not defined"
     ]
    }
   ],
   "source": [
    "df_power_muestra.Date #cambiar la columna a datetime"
   ]
  },
  {
   "cell_type": "code",
   "execution_count": null,
   "metadata": {},
   "outputs": [],
   "source": [
    "#buscar si anteriormente habían cuatro intentos e indagar en la info de esa columna antes de eliminarla.\n",
    "#mirar los nan y tratarlos como 0 en el caso de que sean movimientos nulos.\n",
    "#"
   ]
  },
  {
   "cell_type": "code",
   "execution_count": null,
   "metadata": {},
   "outputs": [
    {
     "name": "stdout",
     "output_type": "stream",
     "text": [
      "<class 'pandas.core.frame.DataFrame'>\n",
      "Index: 337927 entries, 8169 to 1423339\n",
      "Data columns (total 37 columns):\n",
      " #   Column           Non-Null Count   Dtype  \n",
      "---  ------           --------------   -----  \n",
      " 0   Name             337927 non-null  object \n",
      " 1   Sex              337927 non-null  object \n",
      " 2   Event            337927 non-null  object \n",
      " 3   Equipment        337927 non-null  object \n",
      " 4   Age              240154 non-null  float64\n",
      " 5   AgeClass         241738 non-null  object \n",
      " 6   Division         337927 non-null  object \n",
      " 7   BodyweightKg     333804 non-null  float64\n",
      " 8   WeightClassKg    336409 non-null  object \n",
      " 9   Squat1Kg         88150 non-null   float64\n",
      " 10  Squat2Kg         86926 non-null   float64\n",
      " 11  Squat3Kg         84157 non-null   float64\n",
      " 12  Squat4Kg         680 non-null     float64\n",
      " 13  Best3SquatKg     229236 non-null  float64\n",
      " 14  Bench1Kg         131971 non-null  float64\n",
      " 15  Bench2Kg         130364 non-null  float64\n",
      " 16  Bench3Kg         126628 non-null  float64\n",
      " 17  Bench4Kg         1856 non-null    float64\n",
      " 18  Best3BenchKg     307636 non-null  float64\n",
      " 19  Deadlift1Kg      90097 non-null   float64\n",
      " 20  Deadlift2Kg      88205 non-null   float64\n",
      " 21  Deadlift3Kg      83777 non-null   float64\n",
      " 22  Deadlift4Kg      1605 non-null    float64\n",
      " 23  Best3DeadliftKg  241356 non-null  float64\n",
      " 24  TotalKg          315467 non-null  float64\n",
      " 25  Place            337927 non-null  object \n",
      " 26  Wilks            311681 non-null  float64\n",
      " 27  McCulloch        311601 non-null  float64\n",
      " 28  Glossbrenner     311681 non-null  float64\n",
      " 29  IPFPoints        307263 non-null  float64\n",
      " 30  Tested           233274 non-null  object \n",
      " 31  Country          131206 non-null  object \n",
      " 32  Federation       337927 non-null  object \n",
      " 33  Date             337927 non-null  object \n",
      " 34  MeetCountry      337927 non-null  object \n",
      " 35  MeetState        165061 non-null  object \n",
      " 36  MeetName         337927 non-null  object \n",
      "dtypes: float64(22), object(15)\n",
      "memory usage: 98.0+ MB\n"
     ]
    }
   ],
   "source": [
    "open = df_power[df_power[\"Division\"]== \"Open\"]\n",
    "open.info()"
   ]
  },
  {
   "cell_type": "markdown",
   "metadata": {},
   "source": [
    "#### Es una base de datos muy extensa, por lo que me voy a centrar en:\n",
    "\n",
    "-Mejor puntuación en wilks(pronosticar futuras puntuaciones en wilks)\n",
    "\n",
    "-Mejores marcas en sentadilla, peso muerto y pres de banca(mejorarán las marcas?)\n",
    "\n",
    "-Destacarán más los jóvenes?\n",
    "\n",
    "-Es relevante la edad del sujeto en cada categoría? ?\n",
    "\n",
    "-En relación peso corporal, hay mucha diferencia entre marcas de una categoría a otra? Es decir, cuantas veces levanta su propio peso. \n",
    "\n",
    "\n"
   ]
  },
  {
   "cell_type": "markdown",
   "metadata": {},
   "source": []
  }
 ],
 "metadata": {
  "kernelspec": {
   "display_name": "Python 3",
   "language": "python",
   "name": "python3"
  },
  "language_info": {
   "codemirror_mode": {
    "name": "ipython",
    "version": 3
   },
   "file_extension": ".py",
   "mimetype": "text/x-python",
   "name": "python",
   "nbconvert_exporter": "python",
   "pygments_lexer": "ipython3",
   "version": "3.10.11"
  }
 },
 "nbformat": 4,
 "nbformat_minor": 2
}
